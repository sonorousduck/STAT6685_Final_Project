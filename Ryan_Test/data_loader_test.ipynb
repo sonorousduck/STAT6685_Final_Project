{
 "cells": [
  {
   "cell_type": "markdown",
   "metadata": {},
   "source": [
    "# Test Loader for the Data"
   ]
  },
  {
   "cell_type": "code",
   "execution_count": 1,
   "metadata": {},
   "outputs": [
    {
     "name": "stdout",
     "output_type": "stream",
     "text": [
      "Requirement already satisfied: librosa in /Users/sonorousduck/miniconda3/envs/torch/lib/python3.9/site-packages (0.9.2)\n",
      "Requirement already satisfied: scipy>=1.2.0 in /Users/sonorousduck/miniconda3/envs/torch/lib/python3.9/site-packages (from librosa) (1.9.2)\n",
      "Requirement already satisfied: pooch>=1.0 in /Users/sonorousduck/miniconda3/envs/torch/lib/python3.9/site-packages (from librosa) (1.6.0)\n",
      "Requirement already satisfied: packaging>=20.0 in /Users/sonorousduck/miniconda3/envs/torch/lib/python3.9/site-packages (from librosa) (21.3)\n",
      "Requirement already satisfied: joblib>=0.14 in /Users/sonorousduck/miniconda3/envs/torch/lib/python3.9/site-packages (from librosa) (1.2.0)\n",
      "Requirement already satisfied: resampy>=0.2.2 in /Users/sonorousduck/miniconda3/envs/torch/lib/python3.9/site-packages (from librosa) (0.4.2)\n",
      "Requirement already satisfied: audioread>=2.1.9 in /Users/sonorousduck/miniconda3/envs/torch/lib/python3.9/site-packages (from librosa) (3.0.0)\n",
      "Requirement already satisfied: numba>=0.45.1 in /Users/sonorousduck/miniconda3/envs/torch/lib/python3.9/site-packages (from librosa) (0.56.2)\n",
      "Requirement already satisfied: decorator>=4.0.10 in /Users/sonorousduck/miniconda3/envs/torch/lib/python3.9/site-packages (from librosa) (5.1.1)\n",
      "Requirement already satisfied: scikit-learn>=0.19.1 in /Users/sonorousduck/miniconda3/envs/torch/lib/python3.9/site-packages (from librosa) (1.1.2)\n",
      "Requirement already satisfied: numpy>=1.17.0 in /Users/sonorousduck/miniconda3/envs/torch/lib/python3.9/site-packages (from librosa) (1.23.1)\n",
      "Requirement already satisfied: soundfile>=0.10.2 in /Users/sonorousduck/miniconda3/envs/torch/lib/python3.9/site-packages (from librosa) (0.11.0)\n",
      "Requirement already satisfied: llvmlite<0.40,>=0.39.0dev0 in /Users/sonorousduck/miniconda3/envs/torch/lib/python3.9/site-packages (from numba>=0.45.1->librosa) (0.39.1)\n",
      "Requirement already satisfied: setuptools<60 in /Users/sonorousduck/miniconda3/envs/torch/lib/python3.9/site-packages (from numba>=0.45.1->librosa) (59.8.0)\n",
      "Requirement already satisfied: pyparsing!=3.0.5,>=2.0.2 in /Users/sonorousduck/miniconda3/envs/torch/lib/python3.9/site-packages (from packaging>=20.0->librosa) (3.0.9)\n",
      "Requirement already satisfied: requests>=2.19.0 in /Users/sonorousduck/miniconda3/envs/torch/lib/python3.9/site-packages (from pooch>=1.0->librosa) (2.28.1)\n",
      "Requirement already satisfied: appdirs>=1.3.0 in /Users/sonorousduck/miniconda3/envs/torch/lib/python3.9/site-packages (from pooch>=1.0->librosa) (1.4.4)\n",
      "Requirement already satisfied: threadpoolctl>=2.0.0 in /Users/sonorousduck/miniconda3/envs/torch/lib/python3.9/site-packages (from scikit-learn>=0.19.1->librosa) (3.1.0)\n",
      "Requirement already satisfied: cffi>=1.0 in /Users/sonorousduck/miniconda3/envs/torch/lib/python3.9/site-packages (from soundfile>=0.10.2->librosa) (1.15.1)\n",
      "Requirement already satisfied: pycparser in /Users/sonorousduck/miniconda3/envs/torch/lib/python3.9/site-packages (from cffi>=1.0->soundfile>=0.10.2->librosa) (2.21)\n",
      "Requirement already satisfied: charset-normalizer<3,>=2 in /Users/sonorousduck/miniconda3/envs/torch/lib/python3.9/site-packages (from requests>=2.19.0->pooch>=1.0->librosa) (2.1.1)\n",
      "Requirement already satisfied: urllib3<1.27,>=1.21.1 in /Users/sonorousduck/miniconda3/envs/torch/lib/python3.9/site-packages (from requests>=2.19.0->pooch>=1.0->librosa) (1.26.12)\n",
      "Requirement already satisfied: idna<4,>=2.5 in /Users/sonorousduck/miniconda3/envs/torch/lib/python3.9/site-packages (from requests>=2.19.0->pooch>=1.0->librosa) (3.4)\n",
      "Requirement already satisfied: certifi>=2017.4.17 in /Users/sonorousduck/miniconda3/envs/torch/lib/python3.9/site-packages (from requests>=2.19.0->pooch>=1.0->librosa) (2022.9.14)\n"
     ]
    }
   ],
   "source": [
    "!pip install librosa"
   ]
  },
  {
   "cell_type": "code",
   "execution_count": 2,
   "metadata": {},
   "outputs": [],
   "source": [
    "import numpy as np\n",
    "import librosa"
   ]
  },
  {
   "cell_type": "code",
   "execution_count": 3,
   "metadata": {},
   "outputs": [],
   "source": [
    "def audio_file_to_numpy(file_name, segment_length=None, sample_rate=22050):\n",
    "  \"\"\"\n",
    "    Loads an audio file\n",
    "    :file_name The audio file that should be loaded\n",
    "    :segment_length The length of the segment that should be loaded (important for the actual competition stats)\n",
    "    :sample_rate The sampling rate of the audio file, set to the default rate by librosa unless you want to set it\n",
    "\n",
    "    returns a numpy array of the audio\n",
    "  \"\"\"\n",
    "  # Store the sampling rate as sr\n",
    "  waveform, sr = librosa.load(file_name, sr=sample_rate, mono=True)\n",
    "\n",
    "  if segment_length is None:\n",
    "    return waveform\n",
    "\n",
    "  segment_wave = waveform[:segment_length*sample_rate]\n",
    "\n",
    "  if len(segment_wave) < segment_length * sample_rate:\n",
    "    segment_wave = np.pad(segment_wave, (segment_length * sample_rate - len(segment_wave), 0))\n",
    "  \n",
    "  return segment_wave\n"
   ]
  },
  {
   "cell_type": "code",
   "execution_count": 6,
   "metadata": {},
   "outputs": [
    {
     "data": {
      "text/plain": [
       "array([ 5.0492542e-07, -7.3427293e-07, -2.2115759e-05, ...,\n",
       "       -1.7683487e-04, -7.3902743e-06,  0.0000000e+00], dtype=float32)"
      ]
     },
     "execution_count": 6,
     "metadata": {},
     "output_type": "execute_result"
    }
   ],
   "source": [
    "loaded_audio = audio_file_to_numpy('data/afrsil1/XC125458.ogg')\n",
    "loaded_audio"
   ]
  }
 ],
 "metadata": {
  "kernelspec": {
   "display_name": "Python 3.9.13 ('torch')",
   "language": "python",
   "name": "python3"
  },
  "language_info": {
   "codemirror_mode": {
    "name": "ipython",
    "version": 3
   },
   "file_extension": ".py",
   "mimetype": "text/x-python",
   "name": "python",
   "nbconvert_exporter": "python",
   "pygments_lexer": "ipython3",
   "version": "3.9.13"
  },
  "orig_nbformat": 4,
  "vscode": {
   "interpreter": {
    "hash": "572a52937c52f9f4ed15632d392a8fa10c4bde9cd0db79f3e7ddad6ad4e1931d"
   }
  }
 },
 "nbformat": 4,
 "nbformat_minor": 2
}
