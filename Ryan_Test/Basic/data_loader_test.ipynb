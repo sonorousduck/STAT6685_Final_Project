{
 "cells": [
  {
   "cell_type": "markdown",
   "metadata": {},
   "source": [
    "# Test Loader for the Data"
   ]
  },
  {
   "cell_type": "code",
   "execution_count": 1,
   "metadata": {},
   "outputs": [
    {
     "name": "stdout",
     "output_type": "stream",
     "text": [
      "Collecting librosa\n",
      "  Downloading librosa-0.9.2-py3-none-any.whl (214 kB)\n",
      "     -------------------------------------- 214.3/214.3 kB 3.2 MB/s eta 0:00:00\n",
      "Collecting soundfile>=0.10.2\n",
      "  Downloading soundfile-0.11.0-py2.py3-none-win_amd64.whl (1.0 MB)\n",
      "     ---------------------------------------- 1.0/1.0 MB 6.4 MB/s eta 0:00:00\n",
      "Collecting resampy>=0.2.2\n",
      "  Downloading resampy-0.4.2-py3-none-any.whl (3.1 MB)\n",
      "     ---------------------------------------- 3.1/3.1 MB 7.8 MB/s eta 0:00:00\n",
      "Requirement already satisfied: decorator>=4.0.10 in c:\\users\\sonor\\miniconda3\\envs\\pytorch38\\lib\\site-packages (from librosa) (5.1.1)\n",
      "Requirement already satisfied: numpy>=1.17.0 in c:\\users\\sonor\\miniconda3\\envs\\pytorch38\\lib\\site-packages (from librosa) (1.23.1)\n",
      "Collecting audioread>=2.1.9\n",
      "  Downloading audioread-3.0.0.tar.gz (377 kB)\n",
      "     ------------------------------------- 377.0/377.0 kB 11.5 MB/s eta 0:00:00\n",
      "  Preparing metadata (setup.py): started\n",
      "  Preparing metadata (setup.py): finished with status 'done'\n",
      "Requirement already satisfied: packaging>=20.0 in c:\\users\\sonor\\miniconda3\\envs\\pytorch38\\lib\\site-packages (from librosa) (21.3)\n",
      "Collecting joblib>=0.14\n",
      "  Downloading joblib-1.2.0-py3-none-any.whl (297 kB)\n",
      "     ------------------------------------- 298.0/298.0 kB 18.0 MB/s eta 0:00:00\n",
      "Collecting scikit-learn>=0.19.1\n",
      "  Downloading scikit_learn-1.1.2-cp38-cp38-win_amd64.whl (7.3 MB)\n",
      "     ---------------------------------------- 7.3/7.3 MB 16.8 MB/s eta 0:00:00\n",
      "Collecting pooch>=1.0\n",
      "  Downloading pooch-1.6.0-py3-none-any.whl (56 kB)\n",
      "     ---------------------------------------- 56.3/56.3 kB ? eta 0:00:00\n",
      "Collecting numba>=0.45.1\n",
      "  Downloading numba-0.56.2-cp38-cp38-win_amd64.whl (2.5 MB)\n",
      "     ---------------------------------------- 2.5/2.5 MB 15.7 MB/s eta 0:00:00\n",
      "Collecting scipy>=1.2.0\n",
      "  Downloading scipy-1.9.2-cp38-cp38-win_amd64.whl (39.8 MB)\n",
      "     --------------------------------------- 39.8/39.8 MB 17.7 MB/s eta 0:00:00\n",
      "Collecting llvmlite<0.40,>=0.39.0dev0\n",
      "  Downloading llvmlite-0.39.1-cp38-cp38-win_amd64.whl (23.2 MB)\n",
      "     --------------------------------------- 23.2/23.2 MB 18.2 MB/s eta 0:00:00\n",
      "Requirement already satisfied: importlib-metadata in c:\\users\\sonor\\miniconda3\\envs\\pytorch38\\lib\\site-packages (from numba>=0.45.1->librosa) (4.11.4)\n",
      "Collecting setuptools<60\n",
      "  Downloading setuptools-59.8.0-py3-none-any.whl (952 kB)\n",
      "     ------------------------------------- 952.8/952.8 kB 15.0 MB/s eta 0:00:00\n",
      "Requirement already satisfied: pyparsing!=3.0.5,>=2.0.2 in c:\\users\\sonor\\miniconda3\\envs\\pytorch38\\lib\\site-packages (from packaging>=20.0->librosa) (3.0.9)\n",
      "Requirement already satisfied: requests>=2.19.0 in c:\\users\\sonor\\miniconda3\\envs\\pytorch38\\lib\\site-packages (from pooch>=1.0->librosa) (2.28.1)\n",
      "Collecting appdirs>=1.3.0\n",
      "  Downloading appdirs-1.4.4-py2.py3-none-any.whl (9.6 kB)\n",
      "Collecting threadpoolctl>=2.0.0\n",
      "  Downloading threadpoolctl-3.1.0-py3-none-any.whl (14 kB)\n",
      "Requirement already satisfied: cffi>=1.0 in c:\\users\\sonor\\miniconda3\\envs\\pytorch38\\lib\\site-packages (from soundfile>=0.10.2->librosa) (1.15.1)\n",
      "Requirement already satisfied: pycparser in c:\\users\\sonor\\miniconda3\\envs\\pytorch38\\lib\\site-packages (from cffi>=1.0->soundfile>=0.10.2->librosa) (2.21)\n",
      "Requirement already satisfied: idna<4,>=2.5 in c:\\users\\sonor\\miniconda3\\envs\\pytorch38\\lib\\site-packages (from requests>=2.19.0->pooch>=1.0->librosa) (3.4)\n",
      "Requirement already satisfied: urllib3<1.27,>=1.21.1 in c:\\users\\sonor\\miniconda3\\envs\\pytorch38\\lib\\site-packages (from requests>=2.19.0->pooch>=1.0->librosa) (1.26.11)\n",
      "Requirement already satisfied: charset-normalizer<3,>=2 in c:\\users\\sonor\\miniconda3\\envs\\pytorch38\\lib\\site-packages (from requests>=2.19.0->pooch>=1.0->librosa) (2.1.1)\n",
      "Requirement already satisfied: certifi>=2017.4.17 in c:\\users\\sonor\\miniconda3\\envs\\pytorch38\\lib\\site-packages (from requests>=2.19.0->pooch>=1.0->librosa) (2022.9.24)\n",
      "Requirement already satisfied: zipp>=0.5 in c:\\users\\sonor\\miniconda3\\envs\\pytorch38\\lib\\site-packages (from importlib-metadata->numba>=0.45.1->librosa) (3.8.1)\n",
      "Building wheels for collected packages: audioread\n",
      "  Building wheel for audioread (setup.py): started\n",
      "  Building wheel for audioread (setup.py): finished with status 'done'\n",
      "  Created wheel for audioread: filename=audioread-3.0.0-py3-none-any.whl size=23703 sha256=ce9c90e6a9b6f187e39e8198741705ebaacfde044460176bcebf755c6ab39676\n",
      "  Stored in directory: c:\\users\\sonor\\appdata\\local\\pip\\cache\\wheels\\0a\\ed\\be\\49df2538fca496690a024a4374455584d65c2afd6fc3d6e9c7\n",
      "Successfully built audioread\n",
      "Installing collected packages: appdirs, threadpoolctl, setuptools, scipy, llvmlite, joblib, audioread, soundfile, scikit-learn, pooch, numba, resampy, librosa\n",
      "  Attempting uninstall: setuptools\n",
      "    Found existing installation: setuptools 63.4.1\n",
      "    Uninstalling setuptools-63.4.1:\n",
      "      Successfully uninstalled setuptools-63.4.1\n",
      "Successfully installed appdirs-1.4.4 audioread-3.0.0 joblib-1.2.0 librosa-0.9.2 llvmlite-0.39.1 numba-0.56.2 pooch-1.6.0 resampy-0.4.2 scikit-learn-1.1.2 scipy-1.9.2 setuptools-59.8.0 soundfile-0.11.0 threadpoolctl-3.1.0\n"
     ]
    }
   ],
   "source": [
    "!pip install librosa"
   ]
  },
  {
   "cell_type": "code",
   "execution_count": 12,
   "metadata": {},
   "outputs": [],
   "source": [
    "import numpy as np\n",
    "import librosa\n",
    "import torch\n",
    "import torchaudio\n",
    "from torchvision import datasets\n",
    "import matplotlib.pyplot as plt"
   ]
  },
  {
   "cell_type": "code",
   "execution_count": 3,
   "metadata": {},
   "outputs": [],
   "source": [
    "def audio_file_to_numpy(file_name, segment_length=None, sample_rate=22050):\n",
    "  \"\"\"\n",
    "    Loads an audio file\n",
    "    :file_name The audio file that should be loaded\n",
    "    :segment_length The length of the segment that should be loaded (important for the actual competition stats)\n",
    "    :sample_rate The sampling rate of the audio file, set to the default rate by librosa unless you want to set it\n",
    "\n",
    "    returns a numpy array of the audio\n",
    "  \"\"\"\n",
    "  # Store the sampling rate as sr\n",
    "  waveform, sr = librosa.load(file_name, sr=sample_rate, mono=True)\n",
    "\n",
    "  if segment_length is None:\n",
    "    return waveform\n",
    "\n",
    "  segment_wave = waveform[:segment_length*sample_rate]\n",
    "\n",
    "  if len(segment_wave) < segment_length * sample_rate:\n",
    "    segment_wave = np.pad(segment_wave, (segment_length * sample_rate - len(segment_wave), 0))\n",
    "  \n",
    "  return segment_wave\n"
   ]
  },
  {
   "cell_type": "code",
   "execution_count": 6,
   "metadata": {},
   "outputs": [
    {
     "data": {
      "text/plain": [
       "array([ 5.0492542e-07, -7.3427293e-07, -2.2115759e-05, ...,\n",
       "       -1.7683487e-04, -7.3902743e-06,  0.0000000e+00], dtype=float32)"
      ]
     },
     "execution_count": 6,
     "metadata": {},
     "output_type": "execute_result"
    }
   ],
   "source": [
    "loaded_audio = audio_file_to_numpy('data/afrsil1/XC125458.ogg')\n",
    "loaded_audio"
   ]
  },
  {
   "cell_type": "markdown",
   "metadata": {},
   "source": [
    "## Load audio with pytorch instead"
   ]
  },
  {
   "cell_type": "code",
   "execution_count": 11,
   "metadata": {},
   "outputs": [
    {
     "name": "stdout",
     "output_type": "stream",
     "text": [
      "This is the shape of the waveform: torch.Size([1, 1504653])\n",
      "This is the output for Sample rate of the waveform: 32000\n"
     ]
    },
    {
     "data": {
      "text/plain": [
       "[<matplotlib.lines.Line2D at 0x21a5d27b7f0>]"
      ]
     },
     "execution_count": 11,
     "metadata": {},
     "output_type": "execute_result"
    },
    {
     "data": {
      "image/png": "[encoded data removed]",
      "text/plain": [
       "<Figure size 640x480 with 1 Axes>"
      ]
     },
     "metadata": {},
     "output_type": "display_data"
    }
   ],
   "source": [
    "data_dir = \"data/\"\n",
    "\n",
    "waveform, sr = torchaudio.load('data/afrsil1/XC175522.ogg')\n",
    "print(\"This is the shape of the waveform: {}\".format(waveform.size()))\n",
    "print(\"This is the output for Sample rate of the waveform: {}\".format(sr))\n",
    "\n",
    "plt.figure()\n",
    "plt.plot(waveform.t().numpy())\n",
    "\n",
    "\n",
    "\n"
   ]
  },
  {
   "cell_type": "code",
   "execution_count": 16,
   "metadata": {},
   "outputs": [
    {
     "ename": "FileNotFoundError",
     "evalue": "Found no valid file for the classes afrsil1, akekee, akepa1, akiapo, akikik, amewig, aniani, apapan, arcter, barpet, bcnher, belkin1, bkbplo, bknsti, bkwpet, blkfra, blknod, bongul, brant, brnboo, brnnod, brnowl, brtcur, bubsan, buffle, bulpet, burpar, buwtea, cacgoo1, calqua, cangoo, canvas, caster1, categr, chbsan, chemun, chukar, cintea, comgal1, commyn, compea, comsan, comwax, coopet, crehon, dunlin, elepai, ercfra, eurwig, fragul, gadwal, gamqua, glwgul, gnwtea, golphe, grbher3, grefri, gresca, gryfra, gwfgoo, hawama, hawcoo, hawcre, hawgoo, hawhaw, hawpet1, hoomer, houfin, houspa, hudgod, iiwi, incter1, jabwar, japqua, kalphe, kauama, laugul, layalb, lcspet, leasan, leater1, lessca, lesyel, lobdow, lotjae, madpet, magpet1, mallar3, masboo, mauala, maupar, merlin, mitpar, moudov, norcar, norhar2, normoc, norpin, norsho, nutman, oahama, omao, osprey, pagplo, palila, parjae, pecsan, peflov, perfal, pibgre, pomjae, puaioh, reccar, redava, redjun, redpha1, refboo, rempar, rettro, ribgul, rinduc, rinphe, rocpig, rorpar, rudtur, ruff, saffin, sander, semplo, sheowl, shtsan, skylar, snogoo, sooshe, sooter1, sopsku1, sora, spodov, sposan, towsol, wantat1, warwhe1, wesmea, wessan, wetshe, whfibi, whiter, whttro, wiltur, yebcar, yefcan, zebdov. Supported extensions are: .jpg, .jpeg, .png, .ppm, .bmp, .pgm, .tif, .tiff, .webp",
     "output_type": "error",
     "traceback": [
      "\u001b[1;31m---------------------------------------------------------------------------\u001b[0m",
      "\u001b[1;31mFileNotFoundError\u001b[0m                         Traceback (most recent call last)",
      "Cell \u001b[1;32mIn [16], line 1\u001b[0m\n\u001b[1;32m----> 1\u001b[0m test \u001b[38;5;241m=\u001b[39m \u001b[43mdatasets\u001b[49m\u001b[38;5;241;43m.\u001b[39;49m\u001b[43mImageFolder\u001b[49m\u001b[43m(\u001b[49m\u001b[38;5;124;43m\"\u001b[39;49m\u001b[38;5;124;43mdata/\u001b[39;49m\u001b[38;5;124;43m\"\u001b[39;49m\u001b[43m,\u001b[49m\u001b[43m \u001b[49m\u001b[38;5;124;43m\"\u001b[39;49m\u001b[38;5;124;43mdata/\u001b[39;49m\u001b[38;5;124;43m\"\u001b[39;49m\u001b[43m)\u001b[49m\n",
      "File \u001b[1;32mc:\\Users\\sonor\\miniconda3\\envs\\pytorch38\\lib\\site-packages\\torchvision\\datasets\\folder.py:310\u001b[0m, in \u001b[0;36mImageFolder.__init__\u001b[1;34m(self, root, transform, target_transform, loader, is_valid_file)\u001b[0m\n\u001b[0;32m    302\u001b[0m \u001b[39mdef\u001b[39;00m \u001b[39m__init__\u001b[39m(\n\u001b[0;32m    303\u001b[0m     \u001b[39mself\u001b[39m,\n\u001b[0;32m    304\u001b[0m     root: \u001b[39mstr\u001b[39m,\n\u001b[1;32m   (...)\u001b[0m\n\u001b[0;32m    308\u001b[0m     is_valid_file: Optional[Callable[[\u001b[39mstr\u001b[39m], \u001b[39mbool\u001b[39m]] \u001b[39m=\u001b[39m \u001b[39mNone\u001b[39;00m,\n\u001b[0;32m    309\u001b[0m ):\n\u001b[1;32m--> 310\u001b[0m     \u001b[39msuper\u001b[39;49m()\u001b[39m.\u001b[39;49m\u001b[39m__init__\u001b[39;49m(\n\u001b[0;32m    311\u001b[0m         root,\n\u001b[0;32m    312\u001b[0m         loader,\n\u001b[0;32m    313\u001b[0m         IMG_EXTENSIONS \u001b[39mif\u001b[39;49;00m is_valid_file \u001b[39mis\u001b[39;49;00m \u001b[39mNone\u001b[39;49;00m \u001b[39melse\u001b[39;49;00m \u001b[39mNone\u001b[39;49;00m,\n\u001b[0;32m    314\u001b[0m         transform\u001b[39m=\u001b[39;49mtransform,\n\u001b[0;32m    315\u001b[0m         target_transform\u001b[39m=\u001b[39;49mtarget_transform,\n\u001b[0;32m    316\u001b[0m         is_valid_file\u001b[39m=\u001b[39;49mis_valid_file,\n\u001b[0;32m    317\u001b[0m     )\n\u001b[0;32m    318\u001b[0m     \u001b[39mself\u001b[39m\u001b[39m.\u001b[39mimgs \u001b[39m=\u001b[39m \u001b[39mself\u001b[39m\u001b[39m.\u001b[39msamples\n",
      "File \u001b[1;32mc:\\Users\\sonor\\miniconda3\\envs\\pytorch38\\lib\\site-packages\\torchvision\\datasets\\folder.py:146\u001b[0m, in \u001b[0;36mDatasetFolder.__init__\u001b[1;34m(self, root, loader, extensions, transform, target_transform, is_valid_file)\u001b[0m\n\u001b[0;32m    144\u001b[0m \u001b[39msuper\u001b[39m()\u001b[39m.\u001b[39m\u001b[39m__init__\u001b[39m(root, transform\u001b[39m=\u001b[39mtransform, target_transform\u001b[39m=\u001b[39mtarget_transform)\n\u001b[0;32m    145\u001b[0m classes, class_to_idx \u001b[39m=\u001b[39m \u001b[39mself\u001b[39m\u001b[39m.\u001b[39mfind_classes(\u001b[39mself\u001b[39m\u001b[39m.\u001b[39mroot)\n\u001b[1;32m--> 146\u001b[0m samples \u001b[39m=\u001b[39m \u001b[39mself\u001b[39;49m\u001b[39m.\u001b[39;49mmake_dataset(\u001b[39mself\u001b[39;49m\u001b[39m.\u001b[39;49mroot, class_to_idx, extensions, is_valid_file)\n\u001b[0;32m    148\u001b[0m \u001b[39mself\u001b[39m\u001b[39m.\u001b[39mloader \u001b[39m=\u001b[39m loader\n\u001b[0;32m    149\u001b[0m \u001b[39mself\u001b[39m\u001b[39m.\u001b[39mextensions \u001b[39m=\u001b[39m extensions\n",
      "File \u001b[1;32mc:\\Users\\sonor\\miniconda3\\envs\\pytorch38\\lib\\site-packages\\torchvision\\datasets\\folder.py:190\u001b[0m, in \u001b[0;36mDatasetFolder.make_dataset\u001b[1;34m(directory, class_to_idx, extensions, is_valid_file)\u001b[0m\n\u001b[0;32m    185\u001b[0m \u001b[39mif\u001b[39;00m class_to_idx \u001b[39mis\u001b[39;00m \u001b[39mNone\u001b[39;00m:\n\u001b[0;32m    186\u001b[0m     \u001b[39m# prevent potential bug since make_dataset() would use the class_to_idx logic of the\u001b[39;00m\n\u001b[0;32m    187\u001b[0m     \u001b[39m# find_classes() function, instead of using that of the find_classes() method, which\u001b[39;00m\n\u001b[0;32m    188\u001b[0m     \u001b[39m# is potentially overridden and thus could have a different logic.\u001b[39;00m\n\u001b[0;32m    189\u001b[0m     \u001b[39mraise\u001b[39;00m \u001b[39mValueError\u001b[39;00m(\u001b[39m\"\u001b[39m\u001b[39mThe class_to_idx parameter cannot be None.\u001b[39m\u001b[39m\"\u001b[39m)\n\u001b[1;32m--> 190\u001b[0m \u001b[39mreturn\u001b[39;00m make_dataset(directory, class_to_idx, extensions\u001b[39m=\u001b[39;49mextensions, is_valid_file\u001b[39m=\u001b[39;49mis_valid_file)\n",
      "File \u001b[1;32mc:\\Users\\sonor\\miniconda3\\envs\\pytorch38\\lib\\site-packages\\torchvision\\datasets\\folder.py:103\u001b[0m, in \u001b[0;36mmake_dataset\u001b[1;34m(directory, class_to_idx, extensions, is_valid_file)\u001b[0m\n\u001b[0;32m    101\u001b[0m     \u001b[39mif\u001b[39;00m extensions \u001b[39mis\u001b[39;00m \u001b[39mnot\u001b[39;00m \u001b[39mNone\u001b[39;00m:\n\u001b[0;32m    102\u001b[0m         msg \u001b[39m+\u001b[39m\u001b[39m=\u001b[39m \u001b[39mf\u001b[39m\u001b[39m\"\u001b[39m\u001b[39mSupported extensions are: \u001b[39m\u001b[39m{\u001b[39;00mextensions \u001b[39mif\u001b[39;00m \u001b[39misinstance\u001b[39m(extensions, \u001b[39mstr\u001b[39m) \u001b[39melse\u001b[39;00m \u001b[39m'\u001b[39m\u001b[39m, \u001b[39m\u001b[39m'\u001b[39m\u001b[39m.\u001b[39mjoin(extensions)\u001b[39m}\u001b[39;00m\u001b[39m\"\u001b[39m\n\u001b[1;32m--> 103\u001b[0m     \u001b[39mraise\u001b[39;00m \u001b[39mFileNotFoundError\u001b[39;00m(msg)\n\u001b[0;32m    105\u001b[0m \u001b[39mreturn\u001b[39;00m instances\n",
      "\u001b[1;31mFileNotFoundError\u001b[0m: Found no valid file for the classes afrsil1, akekee, akepa1, akiapo, akikik, amewig, aniani, apapan, arcter, barpet, bcnher, belkin1, bkbplo, bknsti, bkwpet, blkfra, blknod, bongul, brant, brnboo, brnnod, brnowl, brtcur, bubsan, buffle, bulpet, burpar, buwtea, cacgoo1, calqua, cangoo, canvas, caster1, categr, chbsan, chemun, chukar, cintea, comgal1, commyn, compea, comsan, comwax, coopet, crehon, dunlin, elepai, ercfra, eurwig, fragul, gadwal, gamqua, glwgul, gnwtea, golphe, grbher3, grefri, gresca, gryfra, gwfgoo, hawama, hawcoo, hawcre, hawgoo, hawhaw, hawpet1, hoomer, houfin, houspa, hudgod, iiwi, incter1, jabwar, japqua, kalphe, kauama, laugul, layalb, lcspet, leasan, leater1, lessca, lesyel, lobdow, lotjae, madpet, magpet1, mallar3, masboo, mauala, maupar, merlin, mitpar, moudov, norcar, norhar2, normoc, norpin, norsho, nutman, oahama, omao, osprey, pagplo, palila, parjae, pecsan, peflov, perfal, pibgre, pomjae, puaioh, reccar, redava, redjun, redpha1, refboo, rempar, rettro, ribgul, rinduc, rinphe, rocpig, rorpar, rudtur, ruff, saffin, sander, semplo, sheowl, shtsan, skylar, snogoo, sooshe, sooter1, sopsku1, sora, spodov, sposan, towsol, wantat1, warwhe1, wesmea, wessan, wetshe, whfibi, whiter, whttro, wiltur, yebcar, yefcan, zebdov. Supported extensions are: .jpg, .jpeg, .png, .ppm, .bmp, .pgm, .tif, .tiff, .webp"
     ]
    }
   ],
   "source": []
  }
 ],
 "metadata": {
  "kernelspec": {
   "display_name": "Python 3.8.13 ('pytorch38')",
   "language": "python",
   "name": "python3"
  },
  "language_info": {
   "codemirror_mode": {
    "name": "ipython",
    "version": 3
   },
   "file_extension": ".py",
   "mimetype": "text/x-python",
   "name": "python",
   "nbconvert_exporter": "python",
   "pygments_lexer": "ipython3",
   "version": "3.8.13"
  },
  "orig_nbformat": 4,
  "vscode": {
   "interpreter": {
    "hash": "ddb17cf83b4972283817f5ab1d22df032d6c30bac9464ed7ca8172a4ffa55b7d"
   }
  }
 },
 "nbformat": 4,
 "nbformat_minor": 2
}
